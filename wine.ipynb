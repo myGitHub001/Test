{
 "cells": [
  {
   "cell_type": "markdown",
   "metadata": {},
   "source": [
    "Assigment for the first lecture\n",
    "\n",
    "Prepare the data:\n",
    "\n",
    "1. Download the two different datasets (for white and red wines): \n",
    "\n",
    "https://archive.ics.uci.edu/ml/datasets/Wine+Quality.\n",
    "\n",
    "2. Create a new column for the type of wine (eg. 1 for red and 0 for white). \n",
    "3. Fuse them into one dataset (hint: Use pandas).\n",
    "4. Split dataset into training and test parts \n",
    "(hint: Use `train_test_split` from Scikit-Learn, it works directly with Pandas)\n",
    "\n",
    "Then run the following tasks:\n",
    "\n",
    "A) Use regression to predict the alcohol level of the wine on a test set.\n",
    "B) Use binary classification to predict the type of wine on a test set.\n",
    "C) Use multiclass classification to predict the quality of the wine on a test set.\n",
    "\n",
    "Slide Type\n",
    "\n",
    "For each task test two classifiers, report accuracy with the default parameters. Perform some manual optimization of the parameters (at least 5 different values for each parameter) and plot the new obtained accuracy as a function of the chosen parameter (max. 2). Using your best result, plot the feature importance for the binary classification or the coefficient magnitudes for regression (hint: choose your classifier accordingly).\n"
   ]
  },
  {
   "cell_type": "code",
   "execution_count": 45,
   "metadata": {},
   "outputs": [],
   "source": [
    "import pandas as pd\n",
    "import numpy as np\n",
    "from sklearn.model_selection import train_test_split\n",
    "from sklearn.linear_model import LinearRegression\n",
    "from sklearn.linear_model import Ridge\n",
    "from sklearn.linear_model import Lasso"
   ]
  },
  {
   "cell_type": "code",
   "execution_count": 46,
   "metadata": {},
   "outputs": [
    {
     "name": "stdout",
     "output_type": "stream",
     "text": [
      "Are there are null values in redWine data frame? False\n",
      "redWine shape is:\n",
      "(1599, 12)\n",
      "   fixed acidity  volatile acidity  citric acid  residual sugar  chlorides  \\\n",
      "0            7.4              0.70         0.00             1.9      0.076   \n",
      "1            7.8              0.88         0.00             2.6      0.098   \n",
      "2            7.8              0.76         0.04             2.3      0.092   \n",
      "3           11.2              0.28         0.56             1.9      0.075   \n",
      "4            7.4              0.70         0.00             1.9      0.076   \n",
      "\n",
      "   free sulfur dioxide  total sulfur dioxide  density    pH  sulphates  \\\n",
      "0                 11.0                  34.0   0.9978  3.51       0.56   \n",
      "1                 25.0                  67.0   0.9968  3.20       0.68   \n",
      "2                 15.0                  54.0   0.9970  3.26       0.65   \n",
      "3                 17.0                  60.0   0.9980  3.16       0.58   \n",
      "4                 11.0                  34.0   0.9978  3.51       0.56   \n",
      "\n",
      "   alcohol  quality  type  \n",
      "0      9.4        5     1  \n",
      "1      9.8        5     1  \n",
      "2      9.8        5     1  \n",
      "3      9.8        6     1  \n",
      "4      9.4        5     1  \n",
      "Are there are null values in whiteWine data frame? False\n",
      "whiteWine shape is:\n",
      "(4898, 12)\n",
      "the merged wine dataframe shape is:\n",
      "(6497, 13)\n"
     ]
    }
   ],
   "source": [
    "# Download red wine data to Pandas dataframe\n",
    "redWine = pd.read_csv(\"https://archive.ics.uci.edu/ml/machine-learning-databases/wine-quality/winequality-red.csv\",delimiter=\";\")\n",
    "# Check if there are some null values\n",
    "print(\"Are there are null values in redWine data frame? \"+ str(redWine.isnull().values.any()))\n",
    "print(\"redWine shape is:\")\n",
    "print(redWine.shape)\n",
    "# Add 1 as red wine type\n",
    "redWine[\"type\"] = 1\n",
    "print(redWine.head())\n",
    "\n",
    "# Download white wine data to Pandas dataframe\n",
    "whiteWine = pd.read_csv(\"https://archive.ics.uci.edu/ml/machine-learning-databases/wine-quality/winequality-white.csv\",delimiter=\";\")\n",
    "# Check if there are some null values\n",
    "print(\"Are there are null values in whiteWine data frame? \"+ str(whiteWine.isnull().values.any()))\n",
    "print(\"whiteWine shape is:\")\n",
    "print(whiteWine.shape)\n",
    "# Add 0 as white wine type\n",
    "whiteWine[\"type\"] = 0\n",
    "# Merge redWine and whiteWine dataframe \n",
    "wine = pd.concat([redWine, whiteWine],sort=False)\n",
    "print(\"the merged wine dataframe shape is:\")\n",
    "print(wine.shape)"
   ]
  },
  {
   "cell_type": "code",
   "execution_count": 47,
   "metadata": {},
   "outputs": [
    {
     "name": "stdout",
     "output_type": "stream",
     "text": [
      "Training set score: 0.78\n",
      "Test set score: 0.81\n",
      "Number of features used: 10\n"
     ]
    }
   ],
   "source": [
    "X = wine.iloc[:,:10].values\n",
    "y_reg = wine.iloc[:,10].values\n",
    "\n",
    "X_train, X_test, y_train, y_test = train_test_split(X, y_reg, random_state=42)\n",
    "lr = LinearRegression().fit(X_train, y_train)\n",
    "\n",
    "print(\"Training set score: {:.2f}\".format(lr.score(X_train, y_train)))\n",
    "print(\"Test set score: {:.2f}\".format(lr.score(X_test, y_test)))\n",
    "print(\"Number of features used: {}\".format(np.sum(lr.coef_ != 0)))\n"
   ]
  },
  {
   "cell_type": "markdown",
   "metadata": {},
   "source": [
    "When random_state value is 42 in LinearRegression, test score is greater than traing score, I suppse \n",
    "underfitting happens in this case."
   ]
  },
  {
   "cell_type": "code",
   "execution_count": 48,
   "metadata": {},
   "outputs": [
    {
     "name": "stdout",
     "output_type": "stream",
     "text": [
      "Training set score: 0.30\n",
      "Test set score: 0.29\n",
      "Number of features used: 10\n"
     ]
    }
   ],
   "source": [
    "# Train Ridge model with alpha default value = 1\n",
    "ridge = Ridge().fit(X_train, y_train)\n",
    "\n",
    "print(\"Training set score: {:.2f}\".format(ridge.score(X_train, y_train)))\n",
    "print(\"Test set score: {:.2f}\".format(ridge.score(X_test, y_test)))\n",
    "print(\"Number of features used: {}\".format(np.sum(ridge.coef_ != 0)))"
   ]
  },
  {
   "cell_type": "code",
   "execution_count": 49,
   "metadata": {},
   "outputs": [
    {
     "name": "stdout",
     "output_type": "stream",
     "text": [
      "Training set score: 0.78\n",
      "Test set score: 0.80\n",
      "Number of features used: 10\n"
     ]
    }
   ],
   "source": [
    "# Train Ridge model with alpha value = 0.001\n",
    "ridge0001 = Ridge(alpha =0.001).fit(X_train, y_train)\n",
    "\n",
    "print(\"Training set score: {:.2f}\".format(ridge0001.score(X_train, y_train)))\n",
    "print(\"Test set score: {:.2f}\".format(ridge0001.score(X_test, y_test)))\n",
    "print(\"Number of features used: {}\".format(np.sum(ridge0001.coef_ != 0)))"
   ]
  },
  {
   "cell_type": "code",
   "execution_count": 50,
   "metadata": {},
   "outputs": [
    {
     "name": "stdout",
     "output_type": "stream",
     "text": [
      "Training set score: 0.65\n",
      "Test set score: 0.66\n",
      "Number of features used: 10\n"
     ]
    }
   ],
   "source": [
    "# Train Ridge model with alpha value = 0.01\n",
    "ridge001 = Ridge(alpha =0.01).fit(X_train, y_train)\n",
    "\n",
    "print(\"Training set score: {:.2f}\".format(ridge001.score(X_train, y_train)))\n",
    "print(\"Test set score: {:.2f}\".format(ridge001.score(X_test, y_test)))\n",
    "print(\"Number of features used: {}\".format(np.sum(ridge001.coef_ != 0)))"
   ]
  },
  {
   "cell_type": "code",
   "execution_count": 51,
   "metadata": {},
   "outputs": [
    {
     "name": "stdout",
     "output_type": "stream",
     "text": [
      "Training set score: 0.38\n",
      "Test set score: 0.36\n",
      "Number of features used: 10\n"
     ]
    }
   ],
   "source": [
    "# Train Ridge model with alpha value = 0.1\n",
    "ridge01 = Ridge(alpha =0.1).fit(X_train, y_train)\n",
    "\n",
    "print(\"Training set score: {:.2f}\".format(ridge01.score(X_train, y_train)))\n",
    "print(\"Test set score: {:.2f}\".format(ridge01.score(X_test, y_test)))\n",
    "print(\"Number of features used: {}\".format(np.sum(ridge01.coef_ != 0)))"
   ]
  },
  {
   "cell_type": "code",
   "execution_count": 52,
   "metadata": {},
   "outputs": [
    {
     "name": "stdout",
     "output_type": "stream",
     "text": [
      "Training set score: 0.27\n",
      "Test set score: 0.26\n",
      "Number of features used: 10\n"
     ]
    }
   ],
   "source": [
    "# Train Ridge model with alpha value = 5\n",
    "ridge5 = Ridge(alpha =5).fit(X_train, y_train)\n",
    "\n",
    "print(\"Training set score: {:.2f}\".format(ridge5.score(X_train, y_train)))\n",
    "print(\"Test set score: {:.2f}\".format(ridge5.score(X_test, y_test)))\n",
    "print(\"Number of features used: {}\".format(np.sum(ridge5.coef_ != 0)))"
   ]
  },
  {
   "cell_type": "code",
   "execution_count": 53,
   "metadata": {},
   "outputs": [
    {
     "data": {
      "image/png": "[encoded data removed]",
      "text/plain": [
       "<Figure size 432x288 with 1 Axes>"
      ]
     },
     "metadata": {
      "needs_background": "light"
     },
     "output_type": "display_data"
    }
   ],
   "source": [
    "# Plot ridge/lasso accuracy with different alpha values\n",
    "\n",
    "training_accuracy = []\n",
    "test_accuracy = []\n",
    "\n",
    "def calculate_accuracy(alpha_values, model_name):\n",
    "    for alpha_value in alpha_values:\n",
    "        # build the model\n",
    "        if model_name == 'ridge':\n",
    "            model = Ridge(alpha =alpha_value).fit(X_train, y_train)\n",
    "        else:\n",
    "            model = Lasso(alpha =alpha_value, max_iter=100000).fit(X_train, y_train)\n",
    "        # record training set accuracy\n",
    "        training_accuracy.append(model.score(X_train, y_train))\n",
    "        # record generalization accuracy\n",
    "        test_accuracy.append(model.score(X_test, y_test))\n",
    "    \n",
    "%matplotlib inline\n",
    "import matplotlib.pyplot as plt\n",
    "\n",
    "def plot_accuracy(alpha_values, model_name):\n",
    "    calculate_accuracy(alpha_values, model_name)\n",
    "    plt.plot(alpha_values, training_accuracy, label=\"training accuracy\")\n",
    "    plt.plot(alpha_values, test_accuracy, label=\"test accuracy\")\n",
    "    plt.ylabel(\"Accuracy ($R^2$)\")\n",
    "    plt.xlabel(\"alpha values\")\n",
    "    plt.legend()\n",
    "    training_accuracy.clear()\n",
    "    test_accuracy.clear()\n",
    "\n",
    "\n",
    "# Define different alpha values for ridge\n",
    "alpha_values = [0.001,0.01,0,1,1,5,10]\n",
    "\n",
    "plot_accuracy(alpha_values, 'ridge')    \n"
   ]
  },
  {
   "cell_type": "code",
   "execution_count": 54,
   "metadata": {},
   "outputs": [
    {
     "name": "stdout",
     "output_type": "stream",
     "text": [
      "Training set score: 0.11\n",
      "Test set score: 0.09\n",
      "Number of features used: 2\n"
     ]
    }
   ],
   "source": [
    "# Train lasso model with alpha default value =1\n",
    "lasso = Lasso(max_iter=100000).fit(X_train, y_train)\n",
    "print(\"Training set score: {:.2f}\".format(lasso.score(X_train, y_train)))\n",
    "print(\"Test set score: {:.2f}\".format(lasso.score(X_test, y_test)))\n",
    "print(\"Number of features used: {}\".format(np.sum(lasso.coef_ != 0)))"
   ]
  },
  {
   "cell_type": "code",
   "execution_count": 55,
   "metadata": {},
   "outputs": [
    {
     "name": "stdout",
     "output_type": "stream",
     "text": [
      "Training set score: 0.78\n",
      "Test set score: 0.81\n",
      "Number of features used: 10\n"
     ]
    }
   ],
   "source": [
    "# Train lasso model with alpha value =0.0001\n",
    "lasso00001 = Lasso(alpha =0.0001, max_iter=100000).fit(X_train, y_train)\n",
    "print(\"Training set score: {:.2f}\".format(lasso00001.score(X_train, y_train)))\n",
    "print(\"Test set score: {:.2f}\".format(lasso00001.score(X_test, y_test)))\n",
    "print(\"Number of features used: {}\".format(np.sum(lasso00001.coef_ != 0)))"
   ]
  },
  {
   "cell_type": "code",
   "execution_count": 56,
   "metadata": {},
   "outputs": [
    {
     "name": "stdout",
     "output_type": "stream",
     "text": [
      "Training set score: 0.43\n",
      "Test set score: 0.42\n",
      "Number of features used: 10\n"
     ]
    }
   ],
   "source": [
    "# Train lasso model with alpha value =0.001\n",
    "lasso0001 = Lasso(alpha =0.001, max_iter=100000).fit(X_train, y_train)\n",
    "print(\"Training set score: {:.2f}\".format(lasso0001.score(X_train, y_train)))\n",
    "print(\"Test set score: {:.2f}\".format(lasso0001.score(X_test, y_test)))\n",
    "print(\"Number of features used: {}\".format(np.sum(lasso0001.coef_ != 0)))"
   ]
  },
  {
   "cell_type": "code",
   "execution_count": 57,
   "metadata": {},
   "outputs": [
    {
     "name": "stdout",
     "output_type": "stream",
     "text": [
      "Training set score: 0.22\n",
      "Test set score: 0.21\n",
      "Number of features used: 7\n"
     ]
    }
   ],
   "source": [
    "# Train lasso model with alpha value =0.01\n",
    "lasso001 = Lasso(alpha =0.01, max_iter=100000).fit(X_train, y_train)\n",
    "print(\"Training set score: {:.2f}\".format(lasso001.score(X_train, y_train)))\n",
    "print(\"Test set score: {:.2f}\".format(lasso001.score(X_test, y_test)))\n",
    "print(\"Number of features used: {}\".format(np.sum(lasso001.coef_ != 0)))"
   ]
  },
  {
   "cell_type": "code",
   "execution_count": 58,
   "metadata": {},
   "outputs": [
    {
     "name": "stdout",
     "output_type": "stream",
     "text": [
      "Training set score: 0.17\n",
      "Test set score: 0.16\n",
      "Number of features used: 4\n"
     ]
    }
   ],
   "source": [
    "# Train lasso model with alpha value =0.1\n",
    "lasso01 = Lasso(alpha =0.1, max_iter=100000).fit(X_train, y_train)\n",
    "print(\"Training set score: {:.2f}\".format(lasso01.score(X_train, y_train)))\n",
    "print(\"Test set score: {:.2f}\".format(lasso01.score(X_test, y_test)))\n",
    "print(\"Number of features used: {}\".format(np.sum(lasso01.coef_ != 0)))"
   ]
  },
  {
   "cell_type": "code",
   "execution_count": 59,
   "metadata": {},
   "outputs": [
    {
     "data": {
      "image/png": "[encoded data removed]",
      "text/plain": [
       "<Figure size 432x288 with 1 Axes>"
      ]
     },
     "metadata": {
      "needs_background": "light"
     },
     "output_type": "display_data"
    }
   ],
   "source": [
    "# Define different alpha values for lasso\n",
    "alpha_values = [0.0001,0.001,0.01,0.1,1]\n",
    "\n",
    "plot_accuracy(alpha_values, 'lasso')    "
   ]
  },
  {
   "cell_type": "code",
   "execution_count": 60,
   "metadata": {},
   "outputs": [
    {
     "data": {
      "image/png": "[encoded data removed]",
      "text/plain": [
       "<Figure size 432x288 with 1 Axes>"
      ]
     },
     "metadata": {
      "needs_background": "light"
     },
     "output_type": "display_data"
    }
   ],
   "source": [
    "# In this project, actually Ridge is almost same as lasso.\n",
    "# We use Ridge to predict\n",
    "# Train Ridge model with alpha value = 0.001\n",
    "ridge0001 = Ridge(alpha =0.001).fit(X_train, y_train)\n",
    "alcohol_level_predicted = ridge0001.predict(X_test)\n",
    "\n",
    "def plot_predict():\n",
    "    plt.plot(list(range(len(y_test))), alcohol_level_predicted, label=\"predicted\")\n",
    "    plt.plot(list(range(len(y_test))), y_test, label=\"y_test\")\n",
    "    plt.ylabel(\"alcohol level\")\n",
    "    plt.xlabel(\"samples\")\n",
    "    plt.legend()\n",
    "    \n",
    "plot_predict()"
   ]
  },
  {
   "cell_type": "code",
   "execution_count": 62,
   "metadata": {},
   "outputs": [
    {
     "data": {
      "image/png": "[encoded data removed]",
      "text/plain": [
       "<Figure size 432x288 with 1 Axes>"
      ]
     },
     "metadata": {
      "needs_background": "light"
     },
     "output_type": "display_data"
    }
   ],
   "source": [
    "# Plot coefficient magnitudes for ridge\n",
    "column_names = list(pd.DataFrame(wine.iloc[:,:10]).columns.values.tolist())\n",
    "\n",
    "def plot_coefficient_magnitudes():\n",
    "    plt.plot(ridge0001.coef_, 'o', label=\"Ridge alpha=0.001\")\n",
    "    plt.xticks(range(len(column_names)), column_names, rotation=90)\n",
    "    plt.plot((0, len(column_names)), (0, 0))\n",
    "    plt.ylim(-10, 10)\n",
    "    plt.xlabel(\"Coefficient index\")\n",
    "    plt.ylabel(\"Coefficient magnitude\")\n",
    "    plt.legend()\n",
    "\n",
    "plot_coefficient_magnitudes()"
   ]
  },
  {
   "cell_type": "code",
   "execution_count": null,
   "metadata": {},
   "outputs": [],
   "source": []
  },
  {
   "cell_type": "code",
   "execution_count": null,
   "metadata": {},
   "outputs": [],
   "source": []
  }
 ],
 "metadata": {
  "kernelspec": {
   "display_name": "Python 3",
   "language": "python",
   "name": "python3"
  },
  "language_info": {
   "codemirror_mode": {
    "name": "ipython",
    "version": 3
   },
   "file_extension": ".py",
   "mimetype": "text/x-python",
   "name": "python",
   "nbconvert_exporter": "python",
   "pygments_lexer": "ipython3",
   "version": "3.7.4"
  }
 },
 "nbformat": 4,
 "nbformat_minor": 2
}

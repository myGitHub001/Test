{
 "cells": [
  {
   "cell_type": "code",
   "execution_count": 16,
   "metadata": {},
   "outputs": [],
   "source": [
    "import pandas as pd\n",
    "import numpy as np\n",
    "from sklearn.model_selection import train_test_split\n",
    "from sklearn.linear_model import LinearRegression\n",
    "from sklearn.linear_model import Ridge\n",
    "from sklearn.linear_model import Lasso"
   ]
  },
  {
   "cell_type": "code",
   "execution_count": 17,
   "metadata": {},
   "outputs": [
    {
     "name": "stdout",
     "output_type": "stream",
     "text": [
      "Are there are null values in redWine data frame? False\n",
      "redWine shape is:\n",
      "(1599, 12)\n",
      "   fixed acidity  volatile acidity  citric acid  residual sugar  chlorides  \\\n",
      "0            7.4              0.70         0.00             1.9      0.076   \n",
      "1            7.8              0.88         0.00             2.6      0.098   \n",
      "2            7.8              0.76         0.04             2.3      0.092   \n",
      "3           11.2              0.28         0.56             1.9      0.075   \n",
      "4            7.4              0.70         0.00             1.9      0.076   \n",
      "\n",
      "   free sulfur dioxide  total sulfur dioxide  density    pH  sulphates  \\\n",
      "0                 11.0                  34.0   0.9978  3.51       0.56   \n",
      "1                 25.0                  67.0   0.9968  3.20       0.68   \n",
      "2                 15.0                  54.0   0.9970  3.26       0.65   \n",
      "3                 17.0                  60.0   0.9980  3.16       0.58   \n",
      "4                 11.0                  34.0   0.9978  3.51       0.56   \n",
      "\n",
      "   alcohol  quality  type  \n",
      "0      9.4        5     1  \n",
      "1      9.8        5     1  \n",
      "2      9.8        5     1  \n",
      "3      9.8        6     1  \n",
      "4      9.4        5     1  \n",
      "Are there are null values in whiteWine data frame? False\n",
      "whiteWine shape is:\n",
      "(4898, 12)\n",
      "the merged wine dataframe shape is:\n",
      "(6497, 13)\n"
     ]
    }
   ],
   "source": [
    "# Download red wine data to Pandas dataframe\n",
    "redWine = pd.read_csv(\"https://archive.ics.uci.edu/ml/machine-learning-databases/wine-quality/winequality-red.csv\",delimiter=\";\")\n",
    "# Check if there are some null values\n",
    "print(\"Are there are null values in redWine data frame? \"+ str(redWine.isnull().values.any()))\n",
    "print(\"redWine shape is:\")\n",
    "print(redWine.shape)\n",
    "# Add 1 as red wine type\n",
    "redWine[\"type\"] = 1\n",
    "print(redWine.head())\n",
    "\n",
    "# Download white wine data to Pandas dataframe\n",
    "whiteWine = pd.read_csv(\"https://archive.ics.uci.edu/ml/machine-learning-databases/wine-quality/winequality-white.csv\",delimiter=\";\")\n",
    "# Check if there are some null values\n",
    "print(\"Are there are null values in whiteWine data frame? \"+ str(whiteWine.isnull().values.any()))\n",
    "print(\"whiteWine shape is:\")\n",
    "print(whiteWine.shape)\n",
    "# Add 0 as white wine type\n",
    "whiteWine[\"type\"] = 0\n",
    "# Merge redWine and whiteWine dataframe \n",
    "wine = pd.concat([redWine, whiteWine],sort=False)\n",
    "print(\"the merged wine dataframe shape is:\")\n",
    "print(wine.shape)"
   ]
  },
  {
   "cell_type": "code",
   "execution_count": 18,
   "metadata": {},
   "outputs": [
    {
     "name": "stdout",
     "output_type": "stream",
     "text": [
      "Training set score: 0.78\n",
      "Test set score: 0.81\n",
      "Number of features used: 10\n"
     ]
    }
   ],
   "source": [
    "X = wine.iloc[:,:10].values\n",
    "y_reg = wine.iloc[:,10].values\n",
    "\n",
    "X_train, X_test, y_train, y_test = train_test_split(X, y_reg, random_state=42)\n",
    "lr = LinearRegression().fit(X_train, y_train)\n",
    "\n",
    "print(\"Training set score: {:.2f}\".format(lr.score(X_train, y_train)))\n",
    "print(\"Test set score: {:.2f}\".format(lr.score(X_test, y_test)))\n",
    "print(\"Number of features used: {}\".format(np.sum(lr.coef_ != 0)))\n"
   ]
  },
  {
   "cell_type": "code",
   "execution_count": null,
   "metadata": {},
   "outputs": [],
   "source": []
  },
  {
   "cell_type": "code",
   "execution_count": 19,
   "metadata": {},
   "outputs": [
    {
     "name": "stdout",
     "output_type": "stream",
     "text": [
      "Training set score: 0.30\n",
      "Test set score: 0.29\n",
      "Number of features used: 10\n"
     ]
    }
   ],
   "source": [
    "ridge = Ridge().fit(X_train, y_train)\n",
    "\n",
    "print(\"Training set score: {:.2f}\".format(ridge.score(X_train, y_train)))\n",
    "print(\"Test set score: {:.2f}\".format(ridge.score(X_test, y_test)))\n",
    "print(\"Number of features used: {}\".format(np.sum(ridge.coef_ != 0)))"
   ]
  },
  {
   "cell_type": "code",
   "execution_count": 20,
   "metadata": {},
   "outputs": [
    {
     "name": "stdout",
     "output_type": "stream",
     "text": [
      "Training set score: 0.11\n",
      "Test set score: 0.09\n",
      "Number of features used: 2\n"
     ]
    }
   ],
   "source": [
    "lasso = Lasso(max_iter=100000).fit(X_train, y_train)\n",
    "print(\"Training set score: {:.2f}\".format(lasso.score(X_train, y_train)))\n",
    "print(\"Test set score: {:.2f}\".format(lasso.score(X_test, y_test)))\n",
    "print(\"Number of features used: {}\".format(np.sum(lasso.coef_ != 0)))"
   ]
  },
  {
   "cell_type": "code",
   "execution_count": null,
   "metadata": {},
   "outputs": [],
   "source": []
  }
 ],
 "metadata": {
  "kernelspec": {
   "display_name": "Python 3",
   "language": "python",
   "name": "python3"
  },
  "language_info": {
   "codemirror_mode": {
    "name": "ipython",
    "version": 3
   },
   "file_extension": ".py",
   "mimetype": "text/x-python",
   "name": "python",
   "nbconvert_exporter": "python",
   "pygments_lexer": "ipython3",
   "version": "3.7.4"
  }
 },
 "nbformat": 4,
 "nbformat_minor": 2
}

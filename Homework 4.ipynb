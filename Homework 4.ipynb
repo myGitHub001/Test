{
 "cells": [
  {
   "cell_type": "markdown",
   "metadata": {},
   "source": [
    "## Homework 4\n",
    "\n",
    "### Model optimization using GridSearchCV\n",
    "\n",
    "1. Using sklearn.datasets.load_boston, make a pipeline that combines\n",
    "    - StandardScaler\n",
    "    - KernelPCA with \"poly\" kernel\n",
    "    - ElasticNet regression\n",
    "2. Find the best combination of the following 4 parameters:\n",
    "    - KernelPCA.gamma \n",
    "    - KernelPCA.degree\n",
    "    - ElasticNet.alpha\n",
    "    - ElasticNet.l1_ratio\n",
    "   Make nice plots to support your optimization procedure.\n",
    "3. Learn from Scikit-Learn documentation how to use different models as parameter values. \n",
    "   Make a pipeline with StandardScaler, KernelPCA and a \"regressor\", then compare\n",
    "   classifiers like \"Ridge\", \"RandomForestRegressor\" and \"sklearn.smv.SVR\". \n",
    "   Which classifier is the best?"
   ]
  },
  {
   "cell_type": "code",
   "execution_count": null,
   "metadata": {},
   "outputs": [],
   "source": [
    "# Load boston and get X(data) and y(target)\n",
    "from sklearn.datasets import load_boston\n",
    "X, y = load_boston(return_X_y=True)\n",
    "\n",
    "from sklearn.model_selection import train_test_split\n",
    "X, X_test, y, y_test = train_test_split(X, y, test_size=0.2, random_state=30)\n",
    "display(X.shape, y_test.shape)\n"
   ]
  },
  {
   "cell_type": "code",
   "execution_count": null,
   "metadata": {},
   "outputs": [],
   "source": [
    "# Make a pipeline that includes StandardScaler, KernelPCA with \"poly\" kernel and ElasticNet regression\n",
    "from sklearn.pipeline import Pipeline\n",
    "from sklearn.preprocessing import StandardScaler\n",
    "from sklearn.decomposition import KernelPCA\n",
    "from sklearn.linear_model import ElasticNet\n",
    "\n",
    "pipe = Pipeline(\n",
    "    steps = [\n",
    "        ('SScaler', StandardScaler()),\n",
    "        ('KPCA', KernelPCA(n_components=3, kernel='poly')),\n",
    "        ('ENet', ElasticNet())\n",
    "    ]\n",
    ")\n",
    "\n",
    "pipe.fit(X, y)\n",
    "pipe.score(X,y)"
   ]
  },
  {
   "cell_type": "code",
   "execution_count": null,
   "metadata": {},
   "outputs": [],
   "source": [
    "pipe.score(X_test,y_test)"
   ]
  },
  {
   "cell_type": "code",
   "execution_count": null,
   "metadata": {},
   "outputs": [],
   "source": [
    "from sklearn.model_selection import GridSearchCV\n",
    "grid_params = [{\n",
    "    'KPCA__gamma': [0.0001, 0.001, 0.01, 0.1, 1],\n",
    "    'KPCA__degree': [1, 3, 6, 9, 12],\n",
    "    'ENet__alpha': [0.00001, 0.0001, 0.01, 0.1, 1, 10],\n",
    "    'ENet__l1_ratio': [0.001, 0.01, 0.1, 1, 10, 100, 1000]\n",
    "    \n",
    "}]\n",
    "GCV = GridSearchCV(pipe, grid_params, cv=5, n_jobs=-1, verbose=10)"
   ]
  },
  {
   "cell_type": "code",
   "execution_count": null,
   "metadata": {},
   "outputs": [],
   "source": [
    "GCV.fit(X, y)"
   ]
  },
  {
   "cell_type": "code",
   "execution_count": null,
   "metadata": {},
   "outputs": [],
   "source": [
    "GCV.best_params_"
   ]
  },
  {
   "cell_type": "code",
   "execution_count": null,
   "metadata": {},
   "outputs": [],
   "source": [
    "GCV.score(X,y)"
   ]
  },
  {
   "cell_type": "code",
   "execution_count": null,
   "metadata": {},
   "outputs": [],
   "source": [
    "GCV.score(X_test,y_test)"
   ]
  },
  {
   "cell_type": "code",
   "execution_count": null,
   "metadata": {},
   "outputs": [],
   "source": [
    "import pandas as pd\n",
    "import numpy as np\n",
    "params = [\"KPCA__gamma\", \"KPCA__degree\", \"ENet__alpha\", \"ENet__l1_ratio\"]\n",
    "p = params[0]\n",
    "q = params[1]\n",
    "y_axis = GCV.param_grid[0][p]\n",
    "y_index = GCV.cv_results_[\"param_\" + p]\n",
    "\n",
    "x_axis = GCV.param_grid[0][q]\n",
    "x_index = GCV.cv_results_[\"param_\" + q]\n",
    "\n",
    "\n",
    "heatmap = pd.DataFrame(index=y_axis, columns=x_axis, dtype=np.float)\n",
    "heatmap = heatmap.fillna(0)  # initialize with zeros"
   ]
  },
  {
   "cell_type": "code",
   "execution_count": null,
   "metadata": {},
   "outputs": [],
   "source": [
    "scores = GCV.cv_results_[\"mean_test_score\"]\n",
    "for ix, iy, value in zip(x_index, y_index, scores):\n",
    "    heatmap.loc[iy, ix] += value"
   ]
  },
  {
   "cell_type": "code",
   "execution_count": null,
   "metadata": {},
   "outputs": [],
   "source": [
    "import seaborn as sn\n",
    "%matplotlib inline\n",
    "\n",
    "plot = sn.heatmap(heatmap, cmap=\"hot\", annot=True)\n",
    "plot.set_ylim([len(heatmap), 0])\n",
    "plot.set_ylabel(p)\n",
    "plot.set_xlabel(q)"
   ]
  },
  {
   "cell_type": "markdown",
   "metadata": {},
   "source": [
    "The best value(in this case, the value is some value between 0 and 1) is NOT in the top-left corner. We assum that the parameter values of gamma and degree are good."
   ]
  },
  {
   "cell_type": "code",
   "execution_count": null,
   "metadata": {},
   "outputs": [],
   "source": [
    "p = params[2]\n",
    "q = params[3]\n",
    "y_axis = GCV.param_grid[0][p]\n",
    "y_index = GCV.cv_results_[\"param_\" + p]\n",
    "\n",
    "x_axis = GCV.param_grid[0][q]\n",
    "x_index = GCV.cv_results_[\"param_\" + q]\n",
    "\n",
    "\n",
    "heatmap = pd.DataFrame(index=y_axis, columns=x_axis, dtype=np.float)\n",
    "heatmap = heatmap.fillna(0)  # initialize with zeros\n",
    "\n",
    "scores = GCV.cv_results_[\"mean_test_score\"]\n",
    "for ix, iy, value in zip(x_index, y_index, scores):\n",
    "    heatmap.loc[iy, ix] += value\n",
    "    \n",
    "import seaborn as sn\n",
    "%matplotlib inline\n",
    "\n",
    "plot = sn.heatmap(heatmap, cmap=\"hot\", annot=True)\n",
    "plot.set_ylim([len(heatmap), 0])\n",
    "plot.set_ylabel(p)\n",
    "plot.set_xlabel(q)"
   ]
  },
  {
   "cell_type": "markdown",
   "metadata": {},
   "source": [
    "The best value(in this case, the value is some value between 0 and 1) is NOT in the top-left corner. We assum that the parameter values of l1_ratio and alpha are good."
   ]
  },
  {
   "cell_type": "markdown",
   "metadata": {},
   "source": [
    "Conclusion:\n",
    "After we using GridSearchCV, we get the best parameters:\n",
    "{'ENet__alpha': 0.0001,\n",
    " 'ENet__l1_ratio': 0.1,\n",
    " 'KPCA__degree': 1,\n",
    " 'KPCA__gamma': 0.001}\n",
    " GCV.score(X,y) = 0.6445953460154428 (0.3215474688612492, the value before searching best parameters)\n",
    " GCV.score(X_test,y_test) = 0.6282444866198624 (0.3807477402025766, the value before searching best parameters)"
   ]
  },
  {
   "cell_type": "code",
   "execution_count": null,
   "metadata": {},
   "outputs": [],
   "source": [
    "# use models as parameter\n",
    "\n",
    "from sklearn.ensemble import RandomForestRegressor\n",
    "from sklearn.linear_model import Ridge\n",
    "from sklearn.linear_model import LogisticRegression\n",
    "from sklearn.svm import SVR\n",
    "\n",
    "# Create a pipeline\n",
    "pipe = Pipeline([('classifier', RandomForestRegressor())])\n",
    "\n",
    "# Create space of candidate learning algorithms and their hyperparameters\n",
    "param_grid = [{'classifier': [ Ridge()],\n",
    "               'classifier__alpha':[0.001, 0.01, 0.1, 1,10]\n",
    "              },\n",
    "              {'classifier': [RandomForestRegressor()],\n",
    "               'classifier__n_estimators': [10, 100, 1000],\n",
    "               'classifier__max_features': [1, 2, 3]},\n",
    "              {'classifier': [SVR(gamma='scale')],\n",
    "               'classifier__C':[0.001, 0.01, 0.1, 1, 10]   \n",
    "              }\n",
    "             ]\n",
    "\n",
    "# Create grid search \n",
    "clf = GridSearchCV(pipe, param_grid, cv=5, verbose=0)\n",
    "# Fit grid search\n",
    "best_model = clf.fit(X, y)\n",
    "# View best model\n",
    "print(\"The best classifier is:\\n{}\".format(best_model.best_estimator_.get_params()['classifier']))"
   ]
  },
  {
   "cell_type": "code",
   "execution_count": null,
   "metadata": {},
   "outputs": [],
   "source": []
  }
 ],
 "metadata": {
  "anaconda-cloud": {},
  "kernelspec": {
   "display_name": "Python 3",
   "language": "python",
   "name": "python3"
  },
  "language_info": {
   "codemirror_mode": {
    "name": "ipython",
    "version": 3
   },
   "file_extension": ".py",
   "mimetype": "text/x-python",
   "name": "python",
   "nbconvert_exporter": "python",
   "pygments_lexer": "ipython3",
   "version": "3.7.5"
  }
 },
 "nbformat": 4,
 "nbformat_minor": 1
}
